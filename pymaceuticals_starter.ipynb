{
 "cells": [
  {
   "cell_type": "markdown",
   "metadata": {},
   "source": [
    "## Observations and Insights"
   ]
  },
  {
   "cell_type": "markdown",
   "metadata": {},
   "source": [
    "Observation 1: \n",
    "There is an outlier in the Infubinol group.\n",
    "\n",
    "Obeservation 2:\n",
    "In the Capomulin group, the heavier the mice is, the bigger the average tumor volume is. \n",
    "\n",
    "Oberservation 3: \n",
    "According to the line plot and box plot, the volume of tumor decreases as time passes, therefore Capomulin and Ramicane are effective in reducing the tumor volume. "
   ]
  },
  {
   "cell_type": "markdown",
   "metadata": {},
   "source": [
    "## Dependencies and starter code"
   ]
  },
  {
   "cell_type": "code",
   "execution_count": 1,
   "metadata": {},
   "outputs": [
    {
     "name": "stdout",
     "output_type": "stream",
     "text": [
      "    Mouse ID Drug Regimen     Sex  Age_months  Weight (g)\n",
      "0       k403     Ramicane    Male          21          16\n",
      "1       s185    Capomulin  Female           3          17\n",
      "2       x401    Capomulin  Female          16          15\n",
      "3       m601    Capomulin    Male          22          17\n",
      "4       g791     Ramicane    Male          11          16\n",
      "..       ...          ...     ...         ...         ...\n",
      "244     z314     Stelasyn  Female          21          28\n",
      "245     z435     Propriva  Female          12          26\n",
      "246     z581    Infubinol  Female          24          25\n",
      "247     z795     Naftisol  Female          13          29\n",
      "248     z969     Naftisol    Male           9          30\n",
      "\n",
      "[249 rows x 5 columns]\n",
      "     Mouse ID  Timepoint  Tumor Volume (mm3)  Metastatic Sites\n",
      "0        b128          0           45.000000                 0\n",
      "1        f932          0           45.000000                 0\n",
      "2        g107          0           45.000000                 0\n",
      "3        a457          0           45.000000                 0\n",
      "4        c819          0           45.000000                 0\n",
      "...       ...        ...                 ...               ...\n",
      "1888     r944         45           41.581521                 2\n",
      "1889     u364         45           31.023923                 3\n",
      "1890     p438         45           61.433892                 1\n",
      "1891     x773         45           58.634971                 4\n",
      "1892     b879         45           72.555239                 2\n",
      "\n",
      "[1893 rows x 4 columns]\n"
     ]
    },
    {
     "data": {
      "text/html": [
       "<div>\n",
       "<style scoped>\n",
       "    .dataframe tbody tr th:only-of-type {\n",
       "        vertical-align: middle;\n",
       "    }\n",
       "\n",
       "    .dataframe tbody tr th {\n",
       "        vertical-align: top;\n",
       "    }\n",
       "\n",
       "    .dataframe thead th {\n",
       "        text-align: right;\n",
       "    }\n",
       "</style>\n",
       "<table border=\"1\" class=\"dataframe\">\n",
       "  <thead>\n",
       "    <tr style=\"text-align: right;\">\n",
       "      <th></th>\n",
       "      <th>Mouse ID</th>\n",
       "      <th>Timepoint</th>\n",
       "      <th>Tumor Volume (mm3)</th>\n",
       "      <th>Metastatic Sites</th>\n",
       "      <th>Drug Regimen</th>\n",
       "      <th>Sex</th>\n",
       "      <th>Age_months</th>\n",
       "      <th>Weight (g)</th>\n",
       "    </tr>\n",
       "  </thead>\n",
       "  <tbody>\n",
       "    <tr>\n",
       "      <td>0</td>\n",
       "      <td>b128</td>\n",
       "      <td>0</td>\n",
       "      <td>45.000000</td>\n",
       "      <td>0</td>\n",
       "      <td>Capomulin</td>\n",
       "      <td>Female</td>\n",
       "      <td>9</td>\n",
       "      <td>22</td>\n",
       "    </tr>\n",
       "    <tr>\n",
       "      <td>1</td>\n",
       "      <td>b128</td>\n",
       "      <td>5</td>\n",
       "      <td>45.651331</td>\n",
       "      <td>0</td>\n",
       "      <td>Capomulin</td>\n",
       "      <td>Female</td>\n",
       "      <td>9</td>\n",
       "      <td>22</td>\n",
       "    </tr>\n",
       "    <tr>\n",
       "      <td>2</td>\n",
       "      <td>b128</td>\n",
       "      <td>10</td>\n",
       "      <td>43.270852</td>\n",
       "      <td>0</td>\n",
       "      <td>Capomulin</td>\n",
       "      <td>Female</td>\n",
       "      <td>9</td>\n",
       "      <td>22</td>\n",
       "    </tr>\n",
       "    <tr>\n",
       "      <td>3</td>\n",
       "      <td>b128</td>\n",
       "      <td>15</td>\n",
       "      <td>43.784893</td>\n",
       "      <td>0</td>\n",
       "      <td>Capomulin</td>\n",
       "      <td>Female</td>\n",
       "      <td>9</td>\n",
       "      <td>22</td>\n",
       "    </tr>\n",
       "    <tr>\n",
       "      <td>4</td>\n",
       "      <td>b128</td>\n",
       "      <td>20</td>\n",
       "      <td>42.731552</td>\n",
       "      <td>0</td>\n",
       "      <td>Capomulin</td>\n",
       "      <td>Female</td>\n",
       "      <td>9</td>\n",
       "      <td>22</td>\n",
       "    </tr>\n",
       "    <tr>\n",
       "      <td>...</td>\n",
       "      <td>...</td>\n",
       "      <td>...</td>\n",
       "      <td>...</td>\n",
       "      <td>...</td>\n",
       "      <td>...</td>\n",
       "      <td>...</td>\n",
       "      <td>...</td>\n",
       "      <td>...</td>\n",
       "    </tr>\n",
       "    <tr>\n",
       "      <td>1888</td>\n",
       "      <td>m601</td>\n",
       "      <td>25</td>\n",
       "      <td>33.118756</td>\n",
       "      <td>1</td>\n",
       "      <td>Capomulin</td>\n",
       "      <td>Male</td>\n",
       "      <td>22</td>\n",
       "      <td>17</td>\n",
       "    </tr>\n",
       "    <tr>\n",
       "      <td>1889</td>\n",
       "      <td>m601</td>\n",
       "      <td>30</td>\n",
       "      <td>31.758275</td>\n",
       "      <td>1</td>\n",
       "      <td>Capomulin</td>\n",
       "      <td>Male</td>\n",
       "      <td>22</td>\n",
       "      <td>17</td>\n",
       "    </tr>\n",
       "    <tr>\n",
       "      <td>1890</td>\n",
       "      <td>m601</td>\n",
       "      <td>35</td>\n",
       "      <td>30.834357</td>\n",
       "      <td>1</td>\n",
       "      <td>Capomulin</td>\n",
       "      <td>Male</td>\n",
       "      <td>22</td>\n",
       "      <td>17</td>\n",
       "    </tr>\n",
       "    <tr>\n",
       "      <td>1891</td>\n",
       "      <td>m601</td>\n",
       "      <td>40</td>\n",
       "      <td>31.378045</td>\n",
       "      <td>1</td>\n",
       "      <td>Capomulin</td>\n",
       "      <td>Male</td>\n",
       "      <td>22</td>\n",
       "      <td>17</td>\n",
       "    </tr>\n",
       "    <tr>\n",
       "      <td>1892</td>\n",
       "      <td>m601</td>\n",
       "      <td>45</td>\n",
       "      <td>28.430964</td>\n",
       "      <td>1</td>\n",
       "      <td>Capomulin</td>\n",
       "      <td>Male</td>\n",
       "      <td>22</td>\n",
       "      <td>17</td>\n",
       "    </tr>\n",
       "  </tbody>\n",
       "</table>\n",
       "<p>1893 rows × 8 columns</p>\n",
       "</div>"
      ],
      "text/plain": [
       "     Mouse ID  Timepoint  Tumor Volume (mm3)  Metastatic Sites Drug Regimen  \\\n",
       "0        b128          0           45.000000                 0    Capomulin   \n",
       "1        b128          5           45.651331                 0    Capomulin   \n",
       "2        b128         10           43.270852                 0    Capomulin   \n",
       "3        b128         15           43.784893                 0    Capomulin   \n",
       "4        b128         20           42.731552                 0    Capomulin   \n",
       "...       ...        ...                 ...               ...          ...   \n",
       "1888     m601         25           33.118756                 1    Capomulin   \n",
       "1889     m601         30           31.758275                 1    Capomulin   \n",
       "1890     m601         35           30.834357                 1    Capomulin   \n",
       "1891     m601         40           31.378045                 1    Capomulin   \n",
       "1892     m601         45           28.430964                 1    Capomulin   \n",
       "\n",
       "         Sex  Age_months  Weight (g)  \n",
       "0     Female           9          22  \n",
       "1     Female           9          22  \n",
       "2     Female           9          22  \n",
       "3     Female           9          22  \n",
       "4     Female           9          22  \n",
       "...      ...         ...         ...  \n",
       "1888    Male          22          17  \n",
       "1889    Male          22          17  \n",
       "1890    Male          22          17  \n",
       "1891    Male          22          17  \n",
       "1892    Male          22          17  \n",
       "\n",
       "[1893 rows x 8 columns]"
      ]
     },
     "execution_count": 1,
     "metadata": {},
     "output_type": "execute_result"
    }
   ],
   "source": [
    "# Dependencies and Setup\n",
    "import matplotlib.pyplot as plt\n",
    "import pandas as pd\n",
    "import scipy.stats as st\n",
    "import numpy as np\n",
    "from scipy.stats import sem\n",
    "from scipy.stats import linregress\n",
    "\n",
    "# Study data files\n",
    "mouse_metadata = \"data/Mouse_metadata.csv\"\n",
    "study_results = \"data/Study_results.csv\"\n",
    "\n",
    "# Read the mouse data and the study results\n",
    "mouse_metadata = pd.read_csv(mouse_metadata)\n",
    "study_results = pd.read_csv(study_results)\n",
    "print(mouse_metadata)\n",
    "print(study_results)\n",
    "\n",
    "# Combine the data into a single dataset\n",
    "merge_table = study_results.merge(mouse_metadata, on=\"Mouse ID\", how=\"outer\")\n",
    "merge_table"
   ]
  },
  {
   "cell_type": "markdown",
   "metadata": {},
   "source": [
    "## Summary statistics"
   ]
  },
  {
   "cell_type": "code",
   "execution_count": 2,
   "metadata": {},
   "outputs": [
    {
     "name": "stdout",
     "output_type": "stream",
     "text": [
      "Drug Regimen\n",
      "Capomulin    40.68\n",
      "Ceftamin     52.59\n",
      "Infubinol    52.88\n",
      "Ketapril     55.24\n",
      "Naftisol     54.33\n",
      "Placebo      54.03\n",
      "Propriva     52.32\n",
      "Ramicane     40.22\n",
      "Stelasyn     54.23\n",
      "Zoniferol    53.24\n",
      "Name: Tumor Volume (mm3), dtype: float64\n",
      "Drug Regimen\n",
      "Capomulin    41.56\n",
      "Ceftamin     51.78\n",
      "Infubinol    51.82\n",
      "Ketapril     53.70\n",
      "Naftisol     52.51\n",
      "Placebo      52.29\n",
      "Propriva     50.85\n",
      "Ramicane     40.67\n",
      "Stelasyn     52.43\n",
      "Zoniferol    51.82\n",
      "Name: Tumor Volume (mm3), dtype: float64\n",
      "Drug Regimen\n",
      "Capomulin    24.84\n",
      "Ceftamin     39.07\n",
      "Infubinol    42.89\n",
      "Ketapril     68.19\n",
      "Naftisol     65.82\n",
      "Placebo      60.83\n",
      "Propriva     42.09\n",
      "Ramicane     23.38\n",
      "Stelasyn     59.12\n",
      "Zoniferol    48.27\n",
      "Name: Tumor Volume (mm3), dtype: float64\n",
      "Drug Regimen\n",
      "Capomulin    4.98\n",
      "Ceftamin     6.25\n",
      "Infubinol    6.55\n",
      "Ketapril     8.26\n",
      "Naftisol     8.11\n",
      "Placebo      7.80\n",
      "Propriva     6.49\n",
      "Ramicane     4.84\n",
      "Stelasyn     7.69\n",
      "Zoniferol    6.95\n",
      "Name: Tumor Volume (mm3), dtype: float64\n",
      "Drug Regimen\n",
      "Capomulin    0.33\n",
      "Ceftamin     0.47\n",
      "Infubinol    0.49\n",
      "Ketapril     0.60\n",
      "Naftisol     0.59\n",
      "Placebo      0.58\n",
      "Propriva     0.51\n",
      "Ramicane     0.32\n",
      "Stelasyn     0.57\n",
      "Zoniferol    0.51\n",
      "Name: Tumor Volume (mm3), dtype: float64\n"
     ]
    }
   ],
   "source": [
    "# Generate a summary statistics table of mean, median, variance, standard deviation, and SEM of the tumor volume for each regimen\n",
    "\n",
    "sort_data = merge_table.sort_values(by=[\"Drug Regimen\", \"Tumor Volume (mm3)\"], ascending=True)\n",
    "regimen_types = sort_data.groupby([\"Drug Regimen\"])\n",
    "mean = round(regimen_types[\"Tumor Volume (mm3)\"].mean(), 2)\n",
    "print(mean)\n",
    "median = round(regimen_types[\"Tumor Volume (mm3)\"].median(), 2)\n",
    "print(median)\n",
    "variance = round(regimen_types[\"Tumor Volume (mm3)\"].var(ddof=0), 2)\n",
    "print(variance)\n",
    "std = round(regimen_types[\"Tumor Volume (mm3)\"].std(ddof=0), 2)\n",
    "print(std)\n",
    "sem = round(regimen_types[\"Tumor Volume (mm3)\"].sem(ddof=0), 2)\n",
    "print(sem)"
   ]
  },
  {
   "cell_type": "markdown",
   "metadata": {},
   "source": [
    "## Bar plots"
   ]
  },
  {
   "cell_type": "code",
   "execution_count": 3,
   "metadata": {},
   "outputs": [
    {
     "name": "stdout",
     "output_type": "stream",
     "text": [
      "           Drug Regimen\n",
      "Capomulin           230\n",
      "Ramicane            228\n",
      "Ketapril            188\n",
      "Naftisol            186\n",
      "Zoniferol           182\n",
      "Stelasyn            181\n",
      "Placebo             181\n",
      "Infubinol           178\n",
      "Ceftamin            178\n",
      "Propriva            161\n"
     ]
    },
    {
     "data": {
      "text/plain": [
       "<matplotlib.axes._subplots.AxesSubplot at 0x11163c310>"
      ]
     },
     "execution_count": 3,
     "metadata": {},
     "output_type": "execute_result"
    },
    {
     "data": {
      "image/png": "[encoded data removed]",
      "text/plain": [
       "<Figure size 432x288 with 1 Axes>"
      ]
     },
     "metadata": {
      "needs_background": "light"
     },
     "output_type": "display_data"
    }
   ],
   "source": [
    "# Generate a bar plot showing number of data points for each treatment regimen using pandas\n",
    "data_points = merge_table[\"Drug Regimen\"].value_counts().to_frame()\n",
    "print(data_points)\n",
    "bar_chart = data_points.plot.bar(title=\"Drug Regimen Data Points\", color=\"b\", rot=45)\n",
    "bar_chart.set_xlabel(\"Drug Regimen\")\n",
    "bar_chart.set_ylabel(\"Number of Data Points\")\n",
    "bar_chart\n"
   ]
  },
  {
   "cell_type": "code",
   "execution_count": 4,
   "metadata": {
    "scrolled": true
   },
   "outputs": [
    {
     "data": {
      "image/png": "[encoded data removed]",
      "text/plain": [
       "<Figure size 432x288 with 1 Axes>"
      ]
     },
     "metadata": {
      "needs_background": "light"
     },
     "output_type": "display_data"
    },
    {
     "data": {
      "text/plain": [
       "<Figure size 432x288 with 0 Axes>"
      ]
     },
     "metadata": {},
     "output_type": "display_data"
    }
   ],
   "source": [
    "# Generate a bar plot showing number of data points for each treatment regimen using pyplot\n",
    "\n",
    "# x_axis = np.arange(len(data_points[\"Drug Regimen\"]))\n",
    "plt.bar(data_points.index.values, data_points[\"Drug Regimen\"], color='b', alpha=0.8, width=0.5, align=\"center\")\n",
    "plt.xticks(rotation=45)\n",
    "plt.xlabel(\"Drug Regimen\")\n",
    "plt.ylabel(\"Number of Data Points\")\n",
    "plt.title(\"Drug Regimen Data Points\")\n",
    "plt.ylim(0, 250)\n",
    "plt.show()\n",
    "plt.tight_layout()"
   ]
  },
  {
   "cell_type": "markdown",
   "metadata": {},
   "source": [
    "## Pie plots"
   ]
  },
  {
   "cell_type": "code",
   "execution_count": 5,
   "metadata": {},
   "outputs": [
    {
     "data": {
      "text/plain": [
       "<matplotlib.axes._subplots.AxesSubplot at 0x1a25507550>"
      ]
     },
     "execution_count": 5,
     "metadata": {},
     "output_type": "execute_result"
    },
    {
     "data": {
      "image/png": "[encoded data removed]",
      "text/plain": [
       "<Figure size 288x504 with 1 Axes>"
      ]
     },
     "metadata": {},
     "output_type": "display_data"
    }
   ],
   "source": [
    "# Generate a pie plot showing the distribution of female versus male mice using pandas\n",
    "\n",
    "gender_counts = merge_table.drop_duplicates(\"Mouse ID\")\n",
    "gender_counts=gender_counts[\"Sex\"].value_counts().to_frame()\n",
    "gender_counts\n",
    "pie_chart = gender_counts.plot.pie(y=\"Sex\", autopct=\"%1.2f%%\", title=\"Distribution of Mice Sex\", figsize=(4, 7))\n",
    "pie_chart\n"
   ]
  },
  {
   "cell_type": "code",
   "execution_count": 6,
   "metadata": {},
   "outputs": [
    {
     "data": {
      "image/png": "[encoded data removed]",
      "text/plain": [
       "<Figure size 432x288 with 1 Axes>"
      ]
     },
     "metadata": {},
     "output_type": "display_data"
    }
   ],
   "source": [
    "# Generate a pie plot showing the distribution of female versus male mice using pyplot\n",
    "\n",
    "\n",
    "explode = (0.1, 0)\n",
    "labels = [\"Male\", \"Female\"]\n",
    "colors = [\"blue\", \"orange\"]\n",
    "plt.pie(gender_counts[\"Sex\"], explode=explode, labels=labels, colors=colors,\n",
    "        autopct=\"%1.2f%%\", shadow=True, startangle=120)\n",
    "plt.axis(\"equal\")\n",
    "plt.title(\"Distribution of Mice Sex\")\n",
    "plt.show()\n",
    "\n"
   ]
  },
  {
   "cell_type": "markdown",
   "metadata": {},
   "source": [
    "## Quartiles, outliers and boxplots"
   ]
  },
  {
   "cell_type": "code",
   "execution_count": 7,
   "metadata": {},
   "outputs": [],
   "source": [
    "# Calculate the final tumor volume of each mouse across four of the most promising treatment regimens. Calculate the IQR and quantitatively determine if there are any potential outliers.\n",
    "# Capomulin, Ramicane, Infubinol, and Ceftamin\n",
    "\n",
    "# # Capomulin\n",
    "\n",
    "cap = merge_table[\"Drug Regimen\"].isin([\"Capomulin\"])\n",
    "merge_table[cap]\n",
    "cap_sort_time = merge_table[cap].sort_values(\"Timepoint\", ascending=True)\n",
    "cap_group_time = cap_sort_time.groupby(\"Mouse ID\")\n",
    "cap_final_time = cap_group_time.last()\n",
    "cap_final_time\n",
    "\n",
    "\n",
    "cap_quartiles = cap_final_time[\"Tumor Volume (mm3)\"].quantile([.25,.5,.75])\n",
    "cap_lowerq = cap_quartiles[.25]\n",
    "cap_upperq = cap_quartiles[.75]\n",
    "cap_iqr = cap_upperq-cap_lowerq \n",
    "\n",
    "cap_lower_bound = cap_lowerq - (1.5*cap_iqr)\n",
    "cap_upper_bound = cap_upperq + (1.5*cap_iqr)\n",
    "\n",
    "\n",
    "\n",
    "# # Ramicane\n",
    "\n",
    "ram = merge_table[\"Drug Regimen\"].isin([\"Ramicane\"])\n",
    "merge_table[ram]\n",
    "ram_sort_time = merge_table[ram].sort_values(\"Timepoint\", ascending=True)\n",
    "ram_group_time = ram_sort_time.groupby(\"Mouse ID\")\n",
    "ram_final_time = ram_group_time.last()\n",
    "\n",
    "\n",
    "ram_quartiles = ram_final_time[\"Tumor Volume (mm3)\"].quantile([.25,.5,.75])\n",
    "ram_lowerq = ram_quartiles[.25]\n",
    "ram_upperq = ram_quartiles[.75]\n",
    "ram_iqr = ram_upperq-ram_lowerq \n",
    "\n",
    "\n",
    "ram_lower_bound = ram_lowerq - (1.5*ram_iqr)\n",
    "ram_upper_bound = ram_upperq + (1.5*ram_iqr)\n",
    "ram_quartiles\n",
    "\n",
    "# # Infubinol\n",
    "\n",
    "inf = merge_table[\"Drug Regimen\"].isin([\"Infubinol\"])\n",
    "merge_table[inf]\n",
    "\n",
    "inf_sort_time = merge_table[inf].sort_values(\"Timepoint\", ascending=True)\n",
    "inf_group_time = inf_sort_time.groupby(\"Mouse ID\")\n",
    "inf_final_time = inf_group_time.last()\n",
    "inf_final_time\n",
    "\n",
    "\n",
    "inf_quartiles = inf_final_time[\"Tumor Volume (mm3)\"].quantile([.25,.5,.75])\n",
    "inf_quartiles\n",
    "inf_lowerq = inf_quartiles[0.25]\n",
    "inf_upperq = inf_quartiles[0.75]\n",
    "inf_iqr = inf_upperq-inf_lowerq \n",
    "\n",
    "inf_lower_bound = inf_lowerq - (1.5*inf_iqr)\n",
    "inf_upper_bound = inf_upperq + (1.5*inf_iqr)\n",
    "\n",
    "\n",
    "# # Ceftamin\n",
    "cef = merge_table[\"Drug Regimen\"].isin([\"Ceftamin\"])\n",
    "merge_table[cef]\n",
    "\n",
    "cef_sort_time = merge_table[cef].sort_values(\"Timepoint\", ascending=True)\n",
    "cef_group_time = cef_sort_time.groupby(\"Mouse ID\")\n",
    "cef_final_time = cef_group_time.last()\n",
    "cef_final_time\n",
    "\n",
    "\n",
    "cef_quartiles = cef_final_time[\"Tumor Volume (mm3)\"].quantile([.25,.5,.75])\n",
    "cef_lowerq = cef_quartiles[0.25]\n",
    "cef_upperq = cef_quartiles[0.75]\n",
    "cef_iqr = cef_upperq-cef_lowerq \n",
    "\n",
    "cef_lower_bound = cef_lowerq - (1.5*cef_iqr)\n",
    "cef_upper_bound = cef_upperq + (1.5*cef_iqr)"
   ]
  },
  {
   "cell_type": "code",
   "execution_count": 8,
   "metadata": {},
   "outputs": [
    {
     "data": {
      "image/png": "[encoded data removed]",
      "text/plain": [
       "<Figure size 432x288 with 1 Axes>"
      ]
     },
     "metadata": {
      "needs_background": "light"
     },
     "output_type": "display_data"
    }
   ],
   "source": [
    "# Generate a box plot of the final tumor volume of each mouse across four regimens of interest\n",
    "\n",
    "\n",
    "data = {\"Capomulin\": cap_final_time[\"Tumor Volume (mm3)\"],\n",
    "       \"Ramicane\": ram_final_time[\"Tumor Volume (mm3)\"],\n",
    "       \"Infubinol\": inf_final_time[\"Tumor Volume (mm3)\"],\n",
    "       \"Ceftamin\": cef_final_time[\"Tumor Volume (mm3)\"]}\n",
    "\n",
    "fig1, ax1 = plt.subplots()\n",
    "ax1.set_title('Final Tumor Volume of Four Regimens of Interest')\n",
    "ax1.set_ylabel('Fianl Tumor Volume')\n",
    "ax1.set_xlabel('Drug Regimen')\n",
    "ax1.boxplot(data.values(), showfliers=True, flierprops={\"markerfacecolor\": \"g\", \"marker\": \"d\"})\n",
    "ax1.set_xticklabels(data.keys())\n",
    "plt.show()"
   ]
  },
  {
   "cell_type": "markdown",
   "metadata": {},
   "source": [
    "## Line and scatter plots"
   ]
  },
  {
   "cell_type": "code",
   "execution_count": 9,
   "metadata": {},
   "outputs": [
    {
     "data": {
      "image/png": "[encoded data removed]",
      "text/plain": [
       "<Figure size 432x288 with 1 Axes>"
      ]
     },
     "metadata": {
      "needs_background": "light"
     },
     "output_type": "display_data"
    }
   ],
   "source": [
    "# Generate a line plot of time point versus tumor volume for a mouse treated with Capomulin\n",
    "\n",
    "f1 = merge_table[\"Drug Regimen\"].isin([\"Capomulin\"])\n",
    "f2 = merge_table[\"Mouse ID\"].isin([\"b128\"])\n",
    "filter_data = merge_table[f1 & f2]\n",
    "volume = filter_data[[\"Timepoint\", \"Tumor Volume (mm3)\"]]\n",
    "\n",
    "plt.plot(volume[\"Timepoint\"],volume[\"Tumor Volume (mm3)\"])\n",
    "plt.xlim(0, 50)\n",
    "plt.xlabel(\"Time Point\")\n",
    "plt.ylabel(\"Tumor Volume\")\n",
    "plt.title(\"Time Point vs. Tumor Volume\")\n",
    "\n",
    "plt.show()"
   ]
  },
  {
   "cell_type": "code",
   "execution_count": 10,
   "metadata": {},
   "outputs": [
    {
     "data": {
      "image/png": "[encoded data removed]",
      "text/plain": [
       "<Figure size 432x288 with 1 Axes>"
      ]
     },
     "metadata": {
      "needs_background": "light"
     },
     "output_type": "display_data"
    }
   ],
   "source": [
    "# Generate a scatter plot of mouse weight versus average tumor volume for the Capomulin regimen\n",
    "\n",
    "cap_table = merge_table[cap]\n",
    "cap_groupby = cap_table.groupby(\"Mouse ID\").mean()\n",
    "avg_tumor = cap_groupby[\"Tumor Volume (mm3)\"]\n",
    "weight = cap_groupby[\"Weight (g)\"]\n",
    "\n",
    "plt.scatter(weight, avg_tumor, marker=\"o\", facecolors=\"red\", edgecolors=\"black\", alpha=0.75)\n",
    "plt.xlabel(\"Weight (g)\")\n",
    "plt.ylabel(\"Average Tumor Volume\")\n",
    "plt.title(\"Weight vs. Average Tumor Volume\")\n",
    "plt.show()"
   ]
  },
  {
   "cell_type": "code",
   "execution_count": 11,
   "metadata": {},
   "outputs": [
    {
     "name": "stdout",
     "output_type": "stream",
     "text": [
      "The correlation coefficient is 0.8419363424694718\n",
      "The linear regression model is Average Tumor Volume = 0.9544396890241045*weight + 21.552160532685015\n"
     ]
    },
    {
     "data": {
      "image/png": "[encoded data removed]",
      "text/plain": [
       "<Figure size 432x288 with 1 Axes>"
      ]
     },
     "metadata": {
      "needs_background": "light"
     },
     "output_type": "display_data"
    }
   ],
   "source": [
    "# Calculate the correlation coefficient and linear regression model for mouse weight and average tumor volume for the Capomulin regimen\n",
    "\n",
    "\n",
    "(slope, intercept, r_value, p_value, stderr) = st.linregress(weight, avg_tumor)\n",
    "fit = slope * weight + intercept\n",
    "fig, ax = plt.subplots()\n",
    "\n",
    "fig.suptitle(\"Tumor Volume with Capomulin\", fontsize=16, fontweight=\"bold\")\n",
    "plt.plot(weight, fit)\n",
    "plt.xlabel(\"Mouse Weight\")\n",
    "plt.ylabel(\"Average Tumor Volume\")\n",
    "\n",
    "print(f\"The correlation coefficient is {r_value}\")\n",
    "print(f\"The linear regression model is Average Tumor Volume = {slope}*weight + {intercept}\")\n",
    " "
   ]
  },
  {
   "cell_type": "code",
   "execution_count": null,
   "metadata": {},
   "outputs": [],
   "source": []
  }
 ],
 "metadata": {
  "anaconda-cloud": {},
  "kernelspec": {
   "display_name": "Python 3",
   "language": "python",
   "name": "python3"
  },
  "language_info": {
   "codemirror_mode": {
    "name": "ipython",
    "version": 3
   },
   "file_extension": ".py",
   "mimetype": "text/x-python",
   "name": "python",
   "nbconvert_exporter": "python",
   "pygments_lexer": "ipython3",
   "version": "3.7.4"
  }
 },
 "nbformat": 4,
 "nbformat_minor": 2
}
